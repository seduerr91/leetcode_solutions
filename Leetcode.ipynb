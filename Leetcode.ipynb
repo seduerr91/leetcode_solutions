{
 "cells": [
  {
   "cell_type": "code",
   "execution_count": 2,
   "id": "823cb264",
   "metadata": {},
   "outputs": [],
   "source": [
    "from typing import Optional, List\n",
    "\n",
    "class TreeNode:\n",
    "    def __init__(self, val=0, left=None, right=None):\n",
    "        self.val = val\n",
    "        self.left = left\n",
    "        self.right = right\n"
   ]
  },
  {
   "cell_type": "markdown",
   "id": "92703371",
   "metadata": {},
   "source": [
    "# 733 Flood Fill"
   ]
  },
  {
   "cell_type": "code",
   "execution_count": 3,
   "id": "edd0f8c8",
   "metadata": {},
   "outputs": [],
   "source": [
    "class Solution:\n",
    "    def floodFill(self, image: List[List[int]], sr: int, sc: int, color: int) -> List[List[int]]:\n",
    "        if(image[sr][sc] == color):\n",
    "            return image\n",
    "        old = image[sr][sc]\n",
    "        stack = [(sr, sc)]\n",
    "        while stack:\n",
    "            i, j = stack.pop()\n",
    "            if image[i][j] == old:\n",
    "                image[i][j] = color\n",
    "                if (i+1 < len(image)):\n",
    "                    stack.append((i+1, j))\n",
    "                if (i-1 >= 0):\n",
    "                    stack.append((i-1, j))\n",
    "                if (j+1 < len(image[0])):\n",
    "                    stack.append((i, j+1))\n",
    "                if (j-1 >= 0):\n",
    "                    stack.append((i, j-1))\n",
    "            else:\n",
    "                pass\n",
    "        return image\n"
   ]
  },
  {
   "cell_type": "markdown",
   "id": "2721915e",
   "metadata": {},
   "source": [
    "# 235. Lowest Common Ancestor of a BST\n",
    "https://leetcode.com/problems/lowest-common-ancestor-of-a-binary-search-tree/\n",
    "\n",
    "Notes: \n",
    "Walk through tree, and \n",
    "Go left if: \n",
    "Go right if: \n",
    "Return if both: "
   ]
  },
  {
   "cell_type": "code",
   "execution_count": 4,
   "id": "f5a9b537",
   "metadata": {},
   "outputs": [],
   "source": [
    "class Solution:\n",
    "    def lowestCommonAncestor(self, root: 'TreeNode', p: 'TreeNode', q: 'TreeNode') -> 'TreeNode':\n",
    "        while root:\n",
    "            if root.val > p.val and root.val > q.val:\n",
    "                root = root.left\n",
    "            elif root.val < p.val and root.val < q.val:\n",
    "                root = root.right\n",
    "            else:\n",
    "                break\n",
    "        return root"
   ]
  },
  {
   "cell_type": "markdown",
   "id": "ea57b86c",
   "metadata": {},
   "source": [
    "# 98. Validate Binary Search Tree"
   ]
  },
  {
   "cell_type": "code",
   "execution_count": 5,
   "id": "2f8b356f",
   "metadata": {},
   "outputs": [],
   "source": [
    "# Definition for a binary tree node.\n",
    "class Solution:\n",
    "    def isValidBST(self, root: Optional[TreeNode]) -> bool:\n",
    "        def traverse(root, low, high):\n",
    "            if not root:\n",
    "                return True\n",
    "            elif not low < root.val < high:\n",
    "                return False\n",
    "            return traverse(root.left,low, root.val) and traverse(root.right,root.val, high)\n",
    "        return traverse(root,low=float('-inf'), high=float('inf'))\n",
    "\n",
    "\n",
    "assert Solution().isValidBST(root = [2,1,3]) == True\n",
    "assert Solution().isValidBST(root = [5,1,4,null,null,3,6]) == False"
   ]
  },
  {
   "cell_type": "markdown",
   "id": "7e590fa9",
   "metadata": {},
   "source": [
    "# 94. Binary Tree Inorder Traversal"
   ]
  },
  {
   "cell_type": "code",
   "execution_count": 2,
   "id": "c9bc6f9c",
   "metadata": {},
   "outputs": [],
   "source": [
    "from typing import Optional, List\n",
    "\n",
    "# Definition for a binary tree node. \n",
    "class TreeNode:\n",
    "    def __init__(self, val=0, left=None, right=None):\n",
    "        self.val = val\n",
    "        self.left = left\n",
    "        self.right = right\n",
    "\n",
    "class Solution:\n",
    "    def inorderTraversal(self, root: Optional[TreeNode]) -> List[int]:\n",
    "        res = []\n",
    "        if root:\n",
    "            res = res + self.inorderTraversal(root.left)\n",
    "            res.append(root.val)\n",
    "            res = res + self.inorderTraversal(root.right)\n",
    "        \n",
    "        return res"
   ]
  },
  {
   "cell_type": "code",
   "execution_count": null,
   "id": "c191cd97",
   "metadata": {},
   "outputs": [],
   "source": [
    "class Solution:\n",
    "  def levelOrder(self, root: Optional[TreeNode]) -> List[List[int]]:\n",
    "    if not root:\n",
    "      return []\n",
    "\n",
    "    ans = []\n",
    "    q = deque([root])\n",
    "\n",
    "    while q:\n",
    "      currLevel = []\n",
    "      for _ in range(len(q)):\n",
    "        node = q.popleft()\n",
    "        currLevel.append(node.val)\n",
    "        if node.left:\n",
    "          q.append(node.left)\n",
    "        if node.right:\n",
    "          q.append(node.right)\n",
    "      ans.append(currLevel)\n",
    "\n",
    "    return ans\n"
   ]
  },
  {
   "cell_type": "markdown",
   "id": "59454bff",
   "metadata": {},
   "source": [
    "# 278. First Bad Version"
   ]
  },
  {
   "cell_type": "code",
   "execution_count": 28,
   "id": "e57f4652",
   "metadata": {},
   "outputs": [],
   "source": [
    "# The isBadVersion API is already defined for you.\n",
    "# def isBadVersion(version: int) -> bool:\n",
    "\n",
    "class Solution:\n",
    "    def firstBadVersion(self, n: int) -> int:\n",
    "        start, end = 0, n\n",
    "        while start < end:\n",
    "            mid = ((end - start) //2) + start\n",
    "            if isBadVersion(mid): end = mid\n",
    "            else: start = mid + 1\n",
    "        return start\n",
    "\n",
    "# isBadVersion API is predefined and only avail in leetcode\n",
    "# assert Solution().firstBadVersion(n=5, bad=4) ==  4\n",
    "# assert Solution().firstBadVersion(n=1, bad=1) ==  1"
   ]
  },
  {
   "cell_type": "markdown",
   "id": "fe34f8b2",
   "metadata": {},
   "source": [
    "# 704. Binary Search"
   ]
  },
  {
   "cell_type": "code",
   "execution_count": 13,
   "id": "1a7ef596",
   "metadata": {},
   "outputs": [],
   "source": [
    "class Solution:\n",
    "    def search(self, nums: List[int], target: int) -> int:\n",
    "        try: idx = nums.index(target)\n",
    "        except ValueError: idx = -1\n",
    "        return idx\n",
    "assert Solution().search(nums = [-1,0,3,5,9,12], target = 9) == 4\n",
    "assert Solution().search(nums = [-1,0,3,5,9,12], target = 2) == -1"
   ]
  },
  {
   "cell_type": "code",
   "execution_count": 14,
   "id": "5a94a930",
   "metadata": {},
   "outputs": [],
   "source": [
    "class Solution:\n",
    "    def search(self, nums: List[int], target: int) -> int:\n",
    "        start = 0\n",
    "        end = len(nums)\n",
    "\n",
    "        while start < end:\n",
    "            mid = ((end-start) // 2) + start\n",
    "            if nums[mid] == target:\n",
    "                return mid\n",
    "            elif nums[mid] > target:\n",
    "                end = mid\n",
    "\n",
    "            elif nums[mid] < target:\n",
    "                start = mid+1\n",
    "\n",
    "        return -1\n",
    "\n",
    "assert Solution().search(nums = [-1,0,3,5,9,12], target = 9) == 4\n",
    "assert Solution().search(nums = [-1,0,3,5,9,12], target = 2) == -1"
   ]
  },
  {
   "cell_type": "code",
   "execution_count": 22,
   "id": "293a612d",
   "metadata": {},
   "outputs": [],
   "source": [
    "class Solution:\n",
    "    def search(self, nums: List[int], target: int) -> int:\n",
    "        start = 0\n",
    "        end = len(nums)\n",
    "\n",
    "        while start < end: \n",
    "            mid = ((end - start)//2) + start\n",
    "            if target == nums[mid]: return mid\n",
    "            if target < nums[mid]: end = mid\n",
    "            if target > nums[mid]: start = mid+1\n",
    "        return -1        \n",
    "\n",
    "assert Solution().search(nums = [-1,0,3,5,9,12], target = 9) == 4\n",
    "assert Solution().search(nums = [-1,0,3,5,9,12], target = 2) == -1"
   ]
  },
  {
   "cell_type": "markdown",
   "id": "76480e4f",
   "metadata": {},
   "source": [
    "# 589. N-ary Tree Preorder Traversal"
   ]
  },
  {
   "cell_type": "code",
   "execution_count": 3,
   "id": "6245de24",
   "metadata": {},
   "outputs": [],
   "source": [
    "class Solution:\n",
    "    def preorder(self, root: 'Node', res: list = None) -> List[int]:\n",
    "        if not root:\n",
    "            return res\n",
    "\n",
    "        if res == None:\n",
    "            res = []\n",
    "\n",
    "        res.append(root.val)\n",
    "        for child in root.children:\n",
    "            self.preorder(child, res)\n",
    "\n",
    "        return res"
   ]
  },
  {
   "cell_type": "markdown",
   "id": "4f5bef1c",
   "metadata": {},
   "source": [
    "# Binary Tree Level Order Traversal"
   ]
  },
  {
   "cell_type": "code",
   "execution_count": 4,
   "id": "48b83500",
   "metadata": {},
   "outputs": [],
   "source": [
    "# Definition for a binary tree node.\n",
    "# class TreeNode:\n",
    "#     def __init__(self, val=0, left=None, right=None):\n",
    "#         self.val = val\n",
    "#         self.left = left\n",
    "#         self.right = right\n",
    "class Solution:\n",
    "    def levelOrder(self, root: Optional[TreeNode]) -> List[List[int]]:\n",
    "        ans = []\n",
    "        if root:\n",
    "            q = deque([root])\n",
    "\n",
    "        while q:\n",
    "            level = []\n",
    "            for _ in range(len(q)):\n",
    "                curr = q.popleft()\n",
    "                level.append(curr.val)\n",
    "                if curr.left:\n",
    "                    q.append(curr.left)\n",
    "                if curr.right:\n",
    "                    q.append(curr.right)\n",
    "            ans.append(level)\n",
    "        return ans\n"
   ]
  },
  {
   "cell_type": "markdown",
   "id": "a4196e3f",
   "metadata": {},
   "source": [
    "# 142. Linked List Cycle II"
   ]
  },
  {
   "cell_type": "code",
   "execution_count": 23,
   "id": "51113508",
   "metadata": {},
   "outputs": [],
   "source": [
    "# def detectCycle(self, head: ListNode) -> ListNode:\n",
    "#       slow, fast = head, head\n",
    "#        while fast and fast.next:\n",
    "#             fast = fast.next.next\n",
    "#             slow = slow.next\n",
    "#             if fast == slow:\n",
    "#                 break\n",
    "#         if not fast or not fast.next:\n",
    "#             return None\n",
    "#         slow = head\n",
    "#         while slow != fast:\n",
    "#             slow = slow.next\n",
    "#             fast = fast.next\n",
    "#         return fast\n",
    "\n",
    "# # while my approach is teribly slow\n",
    "\n",
    "# class Solution:\n",
    "#     def detectCycle(self, head: Optional[ListNode]) -> Optional[ListNode]:\n",
    "#         curr = head\n",
    "#         mem = []\n",
    "#         while  curr:\n",
    "#             if curr in mem: return curr\n",
    "#             mem.append(curr)\n",
    "#             curr = curr.next\n",
    "#         return None\n",
    "    "
   ]
  },
  {
   "cell_type": "markdown",
   "id": "6fb1fca1",
   "metadata": {},
   "source": [
    "# 409. Longest Palindrome"
   ]
  },
  {
   "cell_type": "code",
   "execution_count": 85,
   "id": "e6087254",
   "metadata": {},
   "outputs": [],
   "source": [
    "class Solution:\n",
    "    def longestPalindrome(self, s: str) -> int:\n",
    "        stack = []\n",
    "        i = 0\n",
    "        for c in s:\n",
    "            if c in stack:\n",
    "                stack.remove(c)\n",
    "                i += 2\n",
    "            else:\n",
    "                stack.append(c)\n",
    "        if stack: i += 1\n",
    "        return i\n",
    "\n",
    "\n",
    "assert Solution().longestPalindrome(s=\"abccccdd\") == 7\n",
    "assert Solution().longestPalindrome(s=\"a\") == 1\n"
   ]
  },
  {
   "cell_type": "code",
   "execution_count": 80,
   "id": "69265fc1",
   "metadata": {},
   "outputs": [
    {
     "name": "stdout",
     "output_type": "stream",
     "text": [
      "['a', 'b'] 7\n"
     ]
    }
   ],
   "source": [
    "s = 'abccccdd'\n",
    "n = len(s)\n",
    "stack = []\n",
    "i = 0\n",
    "for c in s: \n",
    "    if c in stack:\n",
    "        stack.remove(c)\n",
    "        i += 2\n",
    "    else: stack.append(c)\n",
    "if stack: i += 1\n",
    "print(stack, i)\n",
    "    "
   ]
  },
  {
   "cell_type": "markdown",
   "id": "2a1c3bf2",
   "metadata": {},
   "source": [
    "# 121. Best time to Buy and Sell Stock"
   ]
  },
  {
   "cell_type": "code",
   "execution_count": 25,
   "id": "a23dc0cc",
   "metadata": {},
   "outputs": [],
   "source": [
    "# slow but it works\n",
    "\n",
    "from typing import List\n",
    "class Solution:\n",
    "    def maxProfit(self, prices: List[int]) -> int:\n",
    "        profits = [0]\n",
    "        while prices:\n",
    "\n",
    "            current_min_price = min(prices)\n",
    "            index_min = prices.index(current_min_price)\n",
    "            try:\n",
    "                max_price_of_rest = max(prices[index_min:])\n",
    "                profit = abs(max_price_of_rest - current_min_price)\n",
    "                profits.append(profit)\n",
    "            except ValueError:\n",
    "                profits.append(0)\n",
    "            prices.pop(index_min)\n",
    "\n",
    "        return max(profits)\n",
    "\n",
    "assert Solution().maxProfit(prices = [7,1,5,3,6,4]) == 5\n",
    "assert Solution().maxProfit(prices=[7, 6, 4, 3, 1]) == 0\n",
    "assert Solution().maxProfit(prices=[4, 7, 1, 2]) == 3"
   ]
  },
  {
   "cell_type": "code",
   "execution_count": 37,
   "id": "818918e0",
   "metadata": {},
   "outputs": [],
   "source": [
    "from typing import List\n",
    "class Solution:\n",
    "    def maxProfit(self, prices: List[int]) -> int:\n",
    "        total, local = 0, 0\n",
    "        for i in range(len(prices)-1):\n",
    "            local = max(0, local + prices[i+1] - prices[i])\n",
    "            total = max(total, local)\n",
    "        return total\n",
    "\n",
    "assert Solution().maxProfit(prices=[7, 1, 5, 3, 6, 4]) == 5\n",
    "assert Solution().maxProfit(prices=[7, 6, 4, 3, 1]) == 0\n",
    "assert Solution().maxProfit(prices=[4, 7, 1, 2]) == 3\n"
   ]
  },
  {
   "cell_type": "code",
   "execution_count": 43,
   "id": "b68b6d19",
   "metadata": {},
   "outputs": [],
   "source": [
    "from typing import List\n",
    "\n",
    "\n",
    "class Solution:\n",
    "    def maxProfit(self, prices: List[int]) -> int:\n",
    "        if not prices: return 0\n",
    "        profit = [0] * len(prices)\n",
    "        minimum = prices[0]\n",
    "        for i in range(1, len(prices)):\n",
    "            if prices[i] < minimum:\n",
    "                minimum = prices[i]\n",
    "            profit[i] = max(profit[i-1], prices[i] - minimum)\n",
    "        return profit[-1]\n",
    "\n",
    "\n",
    "assert Solution().maxProfit(prices=[7, 1, 5, 3, 6, 4]) == 5\n",
    "assert Solution().maxProfit(prices=[7, 6, 4, 3, 1]) == 0\n",
    "assert Solution().maxProfit(prices=[4, 7, 1, 2]) == 3\n"
   ]
  },
  {
   "cell_type": "code",
   "execution_count": 53,
   "id": "c8d56fd7",
   "metadata": {},
   "outputs": [
    {
     "name": "stdout",
     "output_type": "stream",
     "text": [
      "step 1, prices[i]: 6, profit [0, 0, 0, 0, 0]\n",
      "0 = max(0, 6 - 6)\n",
      "step 2, prices[i]: 4, profit [0, 0, 0, 0, 0]\n",
      "0 = max(0, 4 - 4)\n",
      "step 3, prices[i]: 3, profit [0, 0, 0, 0, 0]\n",
      "0 = max(0, 3 - 3)\n",
      "step 4, prices[i]: 1, profit [0, 0, 0, 0, 0]\n",
      "0 = max(0, 1 - 1)\n",
      "0\n"
     ]
    }
   ],
   "source": [
    "prices = [7, 6, 4, 3, 1]\n",
    "#         x\n",
    "\n",
    "profit = [0] * len(prices)\n",
    "minimum = prices[0]\n",
    "for i in range(1, len(prices)):\n",
    "    if prices[i] < minimum:\n",
    "        minimum = prices[i]\n",
    "    profit[i] = max(profit[i-1], prices[i] - minimum)\n",
    "(profit[-1])"
   ]
  },
  {
   "cell_type": "markdown",
   "id": "fcaebe06",
   "metadata": {},
   "source": [
    "# 876. Middle of the Linked List"
   ]
  },
  {
   "cell_type": "code",
   "execution_count": null,
   "id": "1368d46f",
   "metadata": {},
   "outputs": [],
   "source": [
    "# Definition for singly-linked list.\n",
    "# class ListNode:\n",
    "#     def __init__(self, val=0, next=None):\n",
    "#         self.val = val\n",
    "#         self.next = next\n",
    "class Solution:\n",
    "    def middleNode(self, head: Optional[ListNode]) -> Optional[ListNode]:\n",
    "        curr = head\n",
    "        counter = 0\n",
    "        while curr:\n",
    "            counter += 1\n",
    "            curr = curr.next\n",
    "\n",
    "        if counter % 2 != 0:\n",
    "            middle = int((counter) / 2)\n",
    "        else:\n",
    "            middle = int((counter + 1) / 2)\n",
    "\n",
    "        counter = 0\n",
    "        curr = head\n",
    "        while middle != counter:\n",
    "            counter += 1\n",
    "            curr = curr.next\n",
    "        head = curr\n",
    "\n",
    "        return head\n"
   ]
  },
  {
   "cell_type": "code",
   "execution_count": null,
   "id": "b0bf4117",
   "metadata": {},
   "outputs": [],
   "source": [
    "public ListNode middleNode(ListNode head) {\n",
    "    ListNode fast = head\n",
    "    ListNode slow = head\n",
    "    while (fast != null & & fast.next != null) {\n",
    "        fast = fast.next.next\n",
    "        slow = slow.next\n",
    "    }\n",
    "    return slow\n",
    "}"
   ]
  },
  {
   "cell_type": "markdown",
   "id": "a8dac4a2",
   "metadata": {},
   "source": [
    "# 206. Reverse LinkedList"
   ]
  },
  {
   "cell_type": "code",
   "execution_count": 30,
   "id": "1b5e7ce5",
   "metadata": {},
   "outputs": [
    {
     "ename": "TypeError",
     "evalue": "__init__() takes 2 positional arguments but 3 were given",
     "output_type": "error",
     "traceback": [
      "\u001b[0;31m---------------------------------------------------------------------------\u001b[0m",
      "\u001b[0;31mTypeError\u001b[0m                                 Traceback (most recent call last)",
      "\u001b[0;32m/var/folders/6n/xwwtvdh528z13yw6htdm3t_00000gn/T/ipykernel_93542/2256084433.py\u001b[0m in \u001b[0;36m<module>\u001b[0;34m\u001b[0m\n\u001b[1;32m     25\u001b[0m \u001b[0;34m\u001b[0m\u001b[0m\n\u001b[1;32m     26\u001b[0m \u001b[0;31m# Solution().reverseList(head=)\u001b[0m\u001b[0;34m\u001b[0m\u001b[0;34m\u001b[0m\u001b[0m\n\u001b[0;32m---> 27\u001b[0;31m \u001b[0mcreateLinkedList\u001b[0m\u001b[0;34m(\u001b[0m\u001b[0;34m[\u001b[0m\u001b[0;36m1\u001b[0m\u001b[0;34m,\u001b[0m \u001b[0;36m2\u001b[0m\u001b[0;34m,\u001b[0m \u001b[0;36m3\u001b[0m\u001b[0;34m,\u001b[0m \u001b[0;36m4\u001b[0m\u001b[0;34m,\u001b[0m \u001b[0;36m5\u001b[0m\u001b[0;34m]\u001b[0m\u001b[0;34m)\u001b[0m\u001b[0;34m\u001b[0m\u001b[0;34m\u001b[0m\u001b[0m\n\u001b[0m\u001b[1;32m     28\u001b[0m \u001b[0mcreateLinkedList\u001b[0m\u001b[0;34m(\u001b[0m\u001b[0;34m[\u001b[0m\u001b[0;36m5\u001b[0m\u001b[0;34m,\u001b[0m \u001b[0;36m4\u001b[0m\u001b[0;34m,\u001b[0m \u001b[0;36m3\u001b[0m\u001b[0;34m,\u001b[0m \u001b[0;36m2\u001b[0m\u001b[0;34m,\u001b[0m \u001b[0;36m1\u001b[0m\u001b[0;34m]\u001b[0m\u001b[0;34m)\u001b[0m\u001b[0;34m\u001b[0m\u001b[0;34m\u001b[0m\u001b[0m\n\u001b[1;32m     29\u001b[0m \u001b[0;31m# assert Solution().reverseList(head=createLinkedList([1, 2])) == createLinkedList([2, 1])\u001b[0m\u001b[0;34m\u001b[0m\u001b[0;34m\u001b[0m\u001b[0m\n",
      "\u001b[0;32m/var/folders/6n/xwwtvdh528z13yw6htdm3t_00000gn/T/ipykernel_93542/2256084433.py\u001b[0m in \u001b[0;36mcreateLinkedList\u001b[0;34m(lst)\u001b[0m\n\u001b[1;32m     21\u001b[0m     \u001b[0mhead\u001b[0m \u001b[0;34m=\u001b[0m \u001b[0;32mNone\u001b[0m\u001b[0;34m\u001b[0m\u001b[0;34m\u001b[0m\u001b[0m\n\u001b[1;32m     22\u001b[0m     \u001b[0;32mfor\u001b[0m \u001b[0mval\u001b[0m \u001b[0;32min\u001b[0m \u001b[0mreversed\u001b[0m\u001b[0;34m(\u001b[0m\u001b[0mlst\u001b[0m\u001b[0;34m)\u001b[0m\u001b[0;34m:\u001b[0m\u001b[0;34m\u001b[0m\u001b[0;34m\u001b[0m\u001b[0m\n\u001b[0;32m---> 23\u001b[0;31m         \u001b[0mhead\u001b[0m \u001b[0;34m=\u001b[0m \u001b[0mListNode\u001b[0m\u001b[0;34m(\u001b[0m\u001b[0mval\u001b[0m\u001b[0;34m,\u001b[0m \u001b[0mhead\u001b[0m\u001b[0;34m)\u001b[0m\u001b[0;34m\u001b[0m\u001b[0;34m\u001b[0m\u001b[0m\n\u001b[0m\u001b[1;32m     24\u001b[0m     \u001b[0;32mreturn\u001b[0m \u001b[0mhead\u001b[0m\u001b[0;34m\u001b[0m\u001b[0;34m\u001b[0m\u001b[0m\n\u001b[1;32m     25\u001b[0m \u001b[0;34m\u001b[0m\u001b[0m\n",
      "\u001b[0;31mTypeError\u001b[0m: __init__() takes 2 positional arguments but 3 were given"
     ]
    }
   ],
   "source": [
    "# Definition for singly-linked list.\n",
    "# class ListNode(object):\n",
    "#     def __init__(self, x):\n",
    "#         self.val = x\n",
    "#         self.next = None\n",
    "\n",
    "class Solution:\n",
    "    def reverseList(self, head):\n",
    "        if headNode == None: return None\n",
    "        curr = headNode\n",
    "\n",
    "        while curr.next:\n",
    "            n = curr.next\n",
    "            curr.next = n.next\n",
    "            n.next = headNode\n",
    "            headNode = n\n",
    "        return head\n",
    "\n",
    "\n",
    "def createLinkedList(lst):\n",
    "    head = None\n",
    "    for val in reversed(lst):\n",
    "        head = ListNode(val, head)\n",
    "    return head\n",
    "\n",
    "# Solution().reverseList(head=)\n",
    "createLinkedList([1, 2, 3, 4, 5])\n",
    "createLinkedList([5, 4, 3, 2, 1])\n",
    "# assert Solution().reverseList(head=createLinkedList([1, 2])) == createLinkedList([2, 1])\n",
    "# assert Solution().reverseList(head=createLinkedList([])) == createLinkedList([])\n",
    "\n",
    "def toList(head):\n",
    "    lst = []\n",
    "    while head:\n",
    "        lst.append(head.val)\n",
    "        head = head.next\n",
    "    return lst\n"
   ]
  },
  {
   "cell_type": "markdown",
   "id": "4f4a246e",
   "metadata": {},
   "source": [
    "# 392 Is Subsequence"
   ]
  },
  {
   "cell_type": "code",
   "execution_count": 65,
   "id": "43907cdd",
   "metadata": {},
   "outputs": [],
   "source": [
    "class Solution:\n",
    "    def isSubsequence(self, s: str, t: str) -> bool:\n",
    "        \n",
    "        if not s: return True\n",
    "        length = len(s)\n",
    "        i = 0\n",
    "        for c in t:\n",
    "            if c == s[i]:\n",
    "                i += 1\n",
    "            if i >= length:\n",
    "                break\n",
    "        if i == length:\n",
    "            return True\n",
    "        return False\n",
    "\n",
    "assert Solution().isSubsequence(s=\"abc\", t=\"ahbgdc\") == True\n",
    "assert Solution().isSubsequence(s=\"axc\", t=\"ahbgdc\") == False\n",
    "assert Solution().isSubsequence(s=\"acab\", t=\"ahbcabgdc\") == True\n",
    "assert Solution().isSubsequence(s=\"leeeeetcode\", t=\"\") == False"
   ]
  },
  {
   "cell_type": "code",
   "execution_count": 57,
   "id": "1d65315e",
   "metadata": {},
   "outputs": [],
   "source": [
    "class Solution:\n",
    "    def isSubsequence(self, s: str, t: str) -> bool:\n",
    "        # if s is emtpy then it's automatically True\n",
    "        if not s:\n",
    "            return True\n",
    "        # Start with token jumper\n",
    "        i = 0\n",
    "        for c in t:\n",
    "            if c == s[i]:\n",
    "                i += 1    \n",
    "            if i >= len(s):\n",
    "                break\n",
    "\n",
    "        if i == len(s):\n",
    "            return True\n",
    "        return False\n",
    "\n",
    "assert Solution().isSubsequence(s=\"abc\", t=\"ahbgdc\") == True\n",
    "assert Solution().isSubsequence(s=\"b\", t=\"abc\") == True\n",
    "assert Solution().isSubsequence(s=\"axc\", t=\"ahbgdc\") == False\n",
    "assert Solution().isSubsequence(s=\"acab\", t=\"ahbcabgdc\") == True\n",
    "assert Solution().isSubsequence(s=\"leeeeetcode\", t=\"\") == False"
   ]
  },
  {
   "cell_type": "markdown",
   "id": "fe43c917",
   "metadata": {},
   "source": [
    "# 70. Climbing Stairs"
   ]
  },
  {
   "cell_type": "code",
   "execution_count": 13,
   "id": "dbc41fcd",
   "metadata": {},
   "outputs": [],
   "source": [
    "class Solution:\n",
    "    def climbStairs(self, n: int) -> int:\n",
    "        if n == 1 or n == 2: return n\n",
    "\n",
    "        prevPrev = 1\n",
    "        prev = 2\n",
    "        current = 0\n",
    "        for step in range(3, n+1):\n",
    "            current = prevPrev + prev\n",
    "            prevPrev = prev\n",
    "            prev = current\n",
    "\n",
    "        return current\n",
    "        \n",
    "assert Solution().climbStairs(n=2) == 2\n",
    "assert Solution().climbStairs(n=3) == 3\n",
    "assert Solution().climbStairs(n=4) == 5\n",
    "assert Solution().climbStairs(n=1) == 1\n"
   ]
  },
  {
   "cell_type": "markdown",
   "id": "e4c1c002",
   "metadata": {},
   "source": [
    "# 205. Isomorph Strings"
   ]
  },
  {
   "cell_type": "code",
   "execution_count": 11,
   "id": "4c79e2ab",
   "metadata": {},
   "outputs": [
    {
     "name": "stdout",
     "output_type": "stream",
     "text": [
      "c1: e, c2: a\n",
      "c1: g, c2: d\n",
      "c1: g, c2: d\n",
      "c1: f, c2: b\n",
      "c1: o, c2: a\n",
      "c1: o, c2: r\n",
      "c1: p, c2: t\n",
      "c1: a, c2: i\n",
      "c1: p, c2: t\n",
      "c1: e, c2: l\n",
      "c1: r, c2: e\n",
      "c1: b, c2: b\n",
      "c1: a, c2: a\n",
      "c1: d, c2: b\n"
     ]
    }
   ],
   "source": [
    "class Solution:\n",
    "    def isIsomorphic(self, s: str, t: str) -> bool:\n",
    "\n",
    "        mapping_s_t = {}\n",
    "        mapping_t_s = {}\n",
    "\n",
    "        for c1, c2 in zip(s, t):\n",
    "            print(f'c1: {c1}, c2: {c2}')\n",
    "            # Case 1: No mapping exists in either of the dictionaries\n",
    "            if (c1 not in mapping_s_t) and (c2 not in mapping_t_s):\n",
    "                mapping_s_t[c1] = c2\n",
    "                mapping_t_s[c2] = c1\n",
    "\n",
    "            # Case 2: Ether mapping doesn't exist in one of the dictionaries or Mapping exists and\n",
    "            # it doesn't match in either of the dictionaries or both\n",
    "            elif mapping_s_t.get(c1) != c2 or mapping_t_s.get(c2) != c1:\n",
    "                return False\n",
    "\n",
    "        return True\n",
    "\n",
    "assert Solution().isIsomorphic(s='egg', t='add')== True\n",
    "assert Solution().isIsomorphic(s='foo', t='bar')== False\n",
    "assert Solution().isIsomorphic(s='paper', t='title')== True\n",
    "assert Solution().isIsomorphic(s='badc', t='baba') == False"
   ]
  },
  {
   "cell_type": "markdown",
   "id": "800b1041",
   "metadata": {},
   "source": [
    "# 1480. Running Sum of 1d Array"
   ]
  },
  {
   "cell_type": "code",
   "execution_count": null,
   "id": "6c09c809",
   "metadata": {},
   "outputs": [],
   "source": [
    "from typing import List \n",
    "\n",
    "class Solution:\n",
    "    def runningSum(self, nums: List[int]) -> List[int]:\n",
    "        return [(sum(nums[0:i+1])) for i in range(len(nums))]\n",
    "\n",
    "\n",
    "Input: nums = [1,2,3,4]\n",
    "Output: [1,3,6,10]\n",
    "\n",
    "Input: nums=[1, 1, 1, 1, 1]\n",
    "Output: [1, 2, 3, 4, 5]\n",
    "\n",
    "Input: nums = [3,1,2,10,1]\n",
    "Output: [3,4,6,16,17]"
   ]
  },
  {
   "cell_type": "markdown",
   "id": "345aa8c8",
   "metadata": {},
   "source": [
    "# 724. Find Pivot Index"
   ]
  },
  {
   "cell_type": "code",
   "execution_count": 1,
   "id": "c5f2b87f",
   "metadata": {},
   "outputs": [],
   "source": [
    "from typing import List\n",
    "\n",
    "class Solution:\n",
    "    def pivotIndex(self, nums: List[int]) -> int:\n",
    "        for num in range(1, len(nums)+1):\n",
    "            sum_left = sum(nums[0:num-1])\n",
    "            sum_right = sum(nums[num:])\n",
    "            if sum_left == sum_right:\n",
    "                return num-1\n",
    "        return -1\n",
    "\n",
    "assert Solution().pivotIndex(nums = [2, 1, -1]) == 0\n",
    "assert Solution().pivotIndex(nums = [1, 7, 3, 6, 5, 6]) == 3\n",
    "assert Solution().pivotIndex(nums=[-1, -1, 0, 0, -1, -1]) == 2\n",
    "assert Solution().pivotIndex(nums=[-1, -1, -1, -1, -1, 0]) == 2\n",
    "assert Solution().pivotIndex(nums=[-1,-1,0,1,1,0]) == 5\n"
   ]
  },
  {
   "cell_type": "markdown",
   "id": "657468eb",
   "metadata": {},
   "source": [
    "# Problem 66: Plus 1"
   ]
  },
  {
   "cell_type": "code",
   "execution_count": null,
   "id": "46d05199",
   "metadata": {},
   "outputs": [],
   "source": [
    "from typing import Optional, List\n",
    "\n",
    "class Solution:\n",
    "    def plusOne(self, digits: List[int]) -> List[int]:\n",
    "        oneplus = str(int(\"\".join([str(x) for x in digits])) + 1)\n",
    "        return [(int(oneplus[i:i+1])) for i in range(len(oneplus))]\n",
    "\n",
    "# given cases\n",
    "assert Solution().plusOne(digits=[1, 2, 3]) == [1, 2, 4]\n",
    "assert Solution().plusOne(digits=[4, 3, 2, 1]) == [4, 3, 2, 2]\n",
    "assert Solution().plusOne(digits=[9]) == [1, 0]\n",
    "assert Solution().plusOne(digits=[0]) == [1]\n",
    "assert Solution().plusOne(digits=[-1]) == [0]"
   ]
  },
  {
   "cell_type": "markdown",
   "id": "58d23f27",
   "metadata": {},
   "source": [
    "# Problem 21. Merge Two Sorted Lists"
   ]
  },
  {
   "cell_type": "markdown",
   "id": "80b8d879",
   "metadata": {},
   "source": [
    "Code challenge sites like LeetCode, turn the JSON-like input into linked lists for you before calling your solution code. So when you want to run your code locally, outside that framework, you'll have to convert these standard lists to linked lists first, and after you run the code, you'll have to turn the returned linked list back to something printable as well."
   ]
  },
  {
   "cell_type": "markdown",
   "id": "5d7ba007",
   "metadata": {},
   "source": [
    "Solution Lookup Merge Sort\n",
    "\n",
    "1. Check if any of the lists is empty.\n",
    "2. First we need to determine the head of the resultant list. This head will be smaller of the heads of the given lists.\n",
    "3. Loop through each node of the lists until one of the lists get traversed completely.\n",
    "4. While traversing the lists, identify smaller of the nodes of the lists and add it to the resultant list.\n",
    "5. Once the loop is complete, there may be a case where a list has nodes remaining. We will add those remaining nodes to the resultant list."
   ]
  },
  {
   "cell_type": "code",
   "execution_count": 3,
   "id": "a2356adc",
   "metadata": {},
   "outputs": [
    {
     "name": "stdout",
     "output_type": "stream",
     "text": [
      "[1, 1, 2, 3, 4, 4]\n"
     ]
    }
   ],
   "source": [
    "from typing import Optional\n",
    "\n",
    "class ListNode:\n",
    "    def __init__(self, val=0, nextNode=None):\n",
    "        self.val = val\n",
    "        self.next = nextNode\n",
    "\n",
    "class Solution:    \n",
    "    def mergeTwoLists(self, l1: ListNode, l2: ListNode) -> ListNode:\n",
    "        \n",
    "        head = new_list = ListNode(0)\n",
    "        \n",
    "        \n",
    "        # 1. Check if any of the lists is empty.\n",
    "        while(l1 and l2):\n",
    "            \n",
    "            # 4. While traversing the lists, identify smaller of the nodes of the lists and add it to the resultant list.\n",
    "            if (l1.val < l2.val):\n",
    "                \n",
    "                new_list.next = l1\n",
    "                l1 = l1.next\n",
    "            \n",
    "            else:\n",
    "            \n",
    "                new_list.next = l2\n",
    "                l2 = l2.next\n",
    "            \n",
    "            new_list = new_list.next\n",
    "            \n",
    "        # 5. Once the loop is complete, there may be a case where a list has nodes remaining. We will add those remaining nodes to the resultant list.\n",
    "        new_list.next = l1 or l2\n",
    "        return head.next\n",
    "\n",
    "def createLinkedList(lst):\n",
    "    head = None\n",
    "    for val in reversed(lst):\n",
    "        head = ListNode(val, head)\n",
    "    return head\n",
    "\n",
    "\n",
    "def toList(head):\n",
    "    lst = []\n",
    "    while head:\n",
    "        lst.append(head.val)\n",
    "        head = head.next\n",
    "    return lst\n",
    "\n",
    "l1 = createLinkedList([1,2,4])\n",
    "l2 = createLinkedList([1,3,4])\n",
    "print(toList(Solution().mergeTwoLists(l1,l2)))"
   ]
  },
  {
   "cell_type": "code",
   "execution_count": 21,
   "id": "5d5eb227",
   "metadata": {},
   "outputs": [
    {
     "name": "stdout",
     "output_type": "stream",
     "text": [
      "1\n",
      "2\n",
      "3\n",
      "with new val\n",
      "1\n",
      "2\n",
      "5\n",
      "3\n",
      "removed\n",
      "1\n",
      "2\n",
      "3\n"
     ]
    }
   ],
   "source": [
    "class ListNode:\n",
    "    def __init__(self, val):\n",
    "        self.val = val\n",
    "        self.next = None\n",
    "\n",
    "# initiation of linked list\n",
    "headNode = ListNode(1)\n",
    "secondNode = ListNode(2)\n",
    "thirdNode = ListNode(3)\n",
    "\n",
    "headNode.next = secondNode\n",
    "secondNode.next = thirdNode\n",
    "\n",
    "# iterate through the linked list\n",
    "curNode = headNode\n",
    "while curNode:\n",
    "    print(curNode.val)\n",
    "    curNode = curNode.next\n",
    "\n",
    "# insert new listnode with value of 5 in between the secondNode and thirdNode\n",
    "curNode = headNode\n",
    "while curNode.val != 2:\n",
    "    curNode = curNode.next\n",
    "newNode = ListNode(5)\n",
    "newNode.next = curNode.next\n",
    "curNode.next = newNode\n",
    "\n",
    "print('with new val')\n",
    "curNode = headNode\n",
    "while curNode:\n",
    "    print(curNode.val)\n",
    "    curNode = curNode.next\n",
    "\n",
    "# remove the listnode with value of 5\n",
    "curNode = headNode\n",
    "while curNode.next.val != 5:\n",
    "    curNode = curNode.next\n",
    "curNode.next = curNode.next.next\n",
    "\n",
    "# removed\n",
    "print('removed')\n",
    "curNode = headNode\n",
    "while curNode:\n",
    "    print(curNode.val)\n",
    "    curNode = curNode.next"
   ]
  },
  {
   "cell_type": "markdown",
   "id": "11f736d3",
   "metadata": {},
   "source": [
    "# Problem 58. Length of Last Word"
   ]
  },
  {
   "cell_type": "code",
   "execution_count": null,
   "id": "77aea11e",
   "metadata": {},
   "outputs": [],
   "source": [
    "class Solution:\n",
    "    def lengthOfLastWord(self, s: str) -> int:\n",
    "        return len(s.split()[-1])\n",
    "        \n",
    "assert Solution().lengthOfLastWord(s=\"Hello World\") == 5\n",
    "assert Solution().lengthOfLastWord(s=\"   fly me   to   the moon  \") == 4\n",
    "assert Solution().lengthOfLastWord(s=\"luffy is still joyboy\") == 6"
   ]
  },
  {
   "cell_type": "markdown",
   "id": "5e48fbae",
   "metadata": {},
   "source": [
    "# Problem 26. Remove Duplactes from Sorted Array"
   ]
  },
  {
   "cell_type": "code",
   "execution_count": null,
   "id": "4e7e4778",
   "metadata": {},
   "outputs": [],
   "source": [
    "from typing import List\n",
    "\n",
    "class Solution:\n",
    "    def removeDuplicates(self, nums: List[int]) -> int:\n",
    "        expectedNums = list(set(nums))\n",
    "        k = len(expectedNums)\n",
    "        expectedNums.sort()\n",
    "        for position in range(0, k):\n",
    "            nums[position] = expectedNums[position]\n",
    "        return k\n",
    "\n",
    "assert Solution().removeDuplicates(nums=[1, 1, 2]) == 2\n",
    "assert Solution().removeDuplicates(nums=[0, 0, 1, 1, 1, 2, 2, 3, 3, 4]) == 5\n",
    "assert Solution().removeDuplicates(nums=[1]) == 1\n",
    "assert Solution().removeDuplicates(nums=[-1, 0, 0, 0, 0, 3, 3]) == 3"
   ]
  },
  {
   "cell_type": "markdown",
   "id": "3a47a8f4",
   "metadata": {},
   "source": [
    "# Problem 35: Search Insert Position"
   ]
  },
  {
   "cell_type": "code",
   "execution_count": null,
   "id": "0d6a0b75",
   "metadata": {},
   "outputs": [],
   "source": [
    "# 35. Search Insert Position\n",
    "from typing import List\n",
    "\n",
    "class Solution:\n",
    "    def searchInsert(self, nums: List[int], target: int) -> int:\n",
    "        idx = 0\n",
    "        if target in nums:\n",
    "            for num in nums: \n",
    "                if target == num: return idx\n",
    "                idx += 1\n",
    "        elif target > nums[-1]: return len(nums)\n",
    "        elif target < nums[0]: return 0\n",
    "        else:\n",
    "            for num in nums:\n",
    "                if target < num: return idx\n",
    "                idx += 1\n",
    "\n",
    "assert Solution().searchInsert(nums = [1,3,5,6], target = 5) == 2 \n",
    "assert Solution().searchInsert(nums = [1,3,5,6], target = 2) == 1\n",
    "assert Solution().searchInsert(nums = [1,3,5,6], target = 7) == 4\n",
    "assert Solution().searchInsert(nums = [1,3,5,6], target = 0) == 0\n",
    "assert Solution().searchInsert(nums = [1,3,5], target = 4) == 2"
   ]
  },
  {
   "cell_type": "markdown",
   "id": "d2474878",
   "metadata": {},
   "source": [
    "## Approach to a better solution of 35. Search Insert Problem\n",
    "Source https://www.tutorialcup.com/leetcode-solutions/search-insert-position-leetcode-solution.htm#ApproachLinear_Search\n",
    "\n",
    "### Linear Search\n",
    "\n",
    "__Faster: run a loop to find the first index whose value exceeds or equals the target value.__\n",
    "- If the value equals, then this index is the required index.\n",
    "- Target woudl have been inserted at this position, otherwise.\n",
    "\n",
    "class Solution:\n",
    "    def searchInsert(self, nums: List[int], target: int) -> int:\n",
    "        idx = 0\n",
    "        for num in nums:\n",
    "            if num >= target: return idx\n",
    "            idx += 1\n",
    "        return len(nums)\n",
    "\n",
    "### Binary Search\n",
    "\n",
    "- The array is sorted, so we can start looking at the middle, and then go left or right from there. => Binary Search\n",
    "- "
   ]
  },
  {
   "cell_type": "code",
   "execution_count": null,
   "id": "96c95b44",
   "metadata": {},
   "outputs": [],
   "source": [
    "# 35. Search Insert Position - Linear Search\n",
    "from typing import List\n",
    "\n",
    "\n",
    "class Solution:\n",
    "    def searchInsert(self, nums: List[int], target: int) -> int:\n",
    "        idx = 0\n",
    "        for num in nums:\n",
    "            if num >= target: return idx\n",
    "            idx += 1\n",
    "        return len(nums)\n",
    "\n",
    "assert Solution().searchInsert(nums=[1, 3, 5, 6], target=5) == 2\n",
    "assert Solution().searchInsert(nums=[1, 3, 5, 6], target=2) == 1\n",
    "assert Solution().searchInsert(nums=[1, 3, 5, 6], target=7) == 4\n",
    "assert Solution().searchInsert(nums=[1, 3, 5, 6], target=0) == 0\n",
    "assert Solution().searchInsert(nums=[1, 3, 5], target=4) == 2"
   ]
  },
  {
   "cell_type": "code",
   "execution_count": null,
   "id": "b70b32a9",
   "metadata": {},
   "outputs": [],
   "source": [
    "# 35. Search Insert Position - Binary Search\n",
    "from typing import List\n",
    "\n",
    "\n",
    "class Solution:\n",
    "    def searchInsert(self, nums: List[int], target: int) -> int:\n",
    "        l = 0\n",
    "        r = (len(nums) - 1)\n",
    "        ans = -1\n",
    "        while l <= r:\n",
    "            \n",
    "            mid = int(l + (r - 1) / 2)\n",
    "            if nums[mid] == target: return mid\n",
    "            if nums[mid] < target:\n",
    "                l = mid + 1\n",
    "                ans = mid + 1\n",
    "                \n",
    "            else: \n",
    "                ans = mid\n",
    "                r = mid - 1\n",
    "        return ans\n",
    "\n",
    "assert Solution().searchInsert(nums=[1, 3, 5, 6], target=5) == 2\n",
    "assert Solution().searchInsert(nums=[1, 3, 5, 6], target=2) == 1\n",
    "assert Solution().searchInsert(nums=[1, 3, 5, 6], target=7) == 4\n",
    "assert Solution().searchInsert(nums=[1, 3, 5, 6], target=0) == 0\n",
    "assert Solution().searchInsert(nums=[1, 3, 5], target=4) == 2"
   ]
  },
  {
   "cell_type": "markdown",
   "id": "fec5660e",
   "metadata": {},
   "source": [
    "# MaxArea Problem"
   ]
  },
  {
   "cell_type": "code",
   "execution_count": null,
   "id": "0b913159",
   "metadata": {},
   "outputs": [],
   "source": [
    "from typing import List\n",
    "\n",
    "class Solution:\n",
    "    def maxArea(self, height: List[int]) -> int:\n",
    "        ans, i, j = 0, 0, len(height)-1\n",
    "        while (i < j):\n",
    "            if height[i] <= height[j]:\n",
    "                res = height[i] * (j - i)\n",
    "                i += 1\n",
    "            else:\n",
    "                res = height[j] * (j - i)\n",
    "                j -= 1\n",
    "                \n",
    "            if res > ans:\n",
    "                ans = res\n",
    "        return ans\n",
    "\n",
    "\n",
    "assert Solution().maxArea(height=[1, 8, 6, 2, 5, 4, 8, 3, 7]) == 49\n",
    "assert Solution().maxArea(height=[1, 1]) == 1\n",
    "assert Solution().maxArea(height=[1, 2, 1]) == 2"
   ]
  },
  {
   "cell_type": "code",
   "execution_count": null,
   "id": "364a46aa",
   "metadata": {},
   "outputs": [],
   "source": [
    "height = [1,8,6,2,5,4,8,3,7]\n",
    "width = 0\n",
    "\n",
    "first_wall_position = (height.index(max(height)))\n",
    "first_wall_height = height[first_wall_position]\n",
    "print(f'{first_wall_position},{first_wall_height}')\n",
    "\n",
    "height.pop(first_wall_position)\n",
    "\n",
    "second_wall_position = (height.index(max(height)))\n",
    "second_wall_height = height[second_wall_position]\n",
    "print(f'{second_wall_position},{second_wall_height}')\n",
    "\n",
    "area = (second_wall_position - first_wall_position + 1) * (min(second_wall_height, first_wall_height))\n",
    "print(f'area: {area}')"
   ]
  },
  {
   "cell_type": "code",
   "execution_count": null,
   "id": "bc250bdb",
   "metadata": {},
   "outputs": [],
   "source": [
    "height = [1, 8, 6, 2, 5, 4, 8, 3, 7]\n",
    "width = 0\n",
    "areas = []\n",
    "\n",
    "first_wall_position = (height.index(max(height)))\n",
    "first_wall_height = height[first_wall_position]\n",
    "# print(f'{first_wall_position},{first_wall_height}')\n",
    "\n",
    "# pop first max\n",
    "height.pop(first_wall_position)\n",
    "current_wall_position = (height.index(max(height)))\n",
    "current_wall_height = height[current_wall_position]\n",
    "current_area = (current_wall_position - first_wall_position + 1) * \\\n",
    "    (min(current_wall_height, first_wall_height))\n",
    "areas.append(current_area)\n",
    "\n",
    "# pop further maxes\n",
    "while len(height):\n",
    "    try: \n",
    "        print(height)\n",
    "        height[current_wall_position] = 0\n",
    "        current_wall_position = (height.index(max(height)))\n",
    "        current_wall_height = height[current_wall_position]\n",
    "        print(f'{current_wall_position},{current_wall_height}')\n",
    "        current_area = (current_wall_position - first_wall_position) * \\\n",
    "            (min(current_wall_height, first_wall_height))\n",
    "        print(f'current area: {current_area}')\n",
    "        areas.append(current_area)\n",
    "    except: ValueError\n",
    "print(f'the max area is: {max(areas)}')"
   ]
  },
  {
   "cell_type": "markdown",
   "id": "f4dcb195",
   "metadata": {},
   "source": [
    "# Two Sum Problem"
   ]
  },
  {
   "cell_type": "code",
   "execution_count": null,
   "id": "434aa9eb",
   "metadata": {},
   "outputs": [],
   "source": [
    "from typing import List\n",
    "\n",
    "class Solution:\n",
    "    def twoSum(self, nums, target: int):\n",
    "        values = {}\n",
    "        for i, value in enumerate(nums):\n",
    "            if target - value in values:\n",
    "                return [values[target - value], i]\n",
    "            else:\n",
    "                values[value] = i\n",
    "\n",
    "\n",
    "assert Solution().twoSum(nums = [2,7,11,15], target = 9) == [0,1]\n",
    "assert Solution().twoSum(nums = [3,3], target = 6) == [0,1]\n",
    "assert Solution().twoSum(nums = [3,2,4], target = 6) == [1,2]"
   ]
  },
  {
   "cell_type": "markdown",
   "id": "306ec295",
   "metadata": {},
   "source": [
    "# Problem: findKthLargest"
   ]
  },
  {
   "cell_type": "code",
   "execution_count": null,
   "id": "0c620e4d",
   "metadata": {},
   "outputs": [],
   "source": [
    "class Solution:\n",
    "    def findKthLargest(self, nums: List[int], k: int) -> int:\n",
    "        return True\n",
    "        \n",
    "assert Solution().findKthLargest(nums = [3,2,1,5,6,4], k = 2) == True\n",
    "assert Solution().findKthLargest(nums = [3,2,3,1,2,4,5,5,6], k = 4) == True"
   ]
  },
  {
   "cell_type": "markdown",
   "id": "82307a5e",
   "metadata": {},
   "source": [
    "# Problem: reverse"
   ]
  },
  {
   "cell_type": "code",
   "execution_count": null,
   "id": "c7b9f3be",
   "metadata": {},
   "outputs": [],
   "source": [
    "class Solution:\n",
    "    def reverse(self, x: int) -> int:        \n",
    "        if x < 0:\n",
    "            numbers = [number for number in str(abs(x))]\n",
    "            numbers.reverse()\n",
    "            numbers.insert(0, '-')\n",
    "            x_reversed = int(\"\".join(numbers))\n",
    "        \n",
    "        else: \n",
    "            numbers = [number for number in str(x)]\n",
    "            numbers.reverse()\n",
    "            x_reversed = int(\"\".join(numbers))\n",
    "        print(x_reversed)\n",
    "        \n",
    "        if x_reversed < -2147483641 or x_reversed > 2147483641: \n",
    "            x_reversed = 0\n",
    "        return x_reversed\n",
    "    \n",
    "assert Solution().reverse(x = 1534236469) == 0"
   ]
  },
  {
   "cell_type": "markdown",
   "id": "97d152ed",
   "metadata": {},
   "source": [
    "# Problem 9: Palindrome"
   ]
  },
  {
   "cell_type": "code",
   "execution_count": null,
   "id": "9eae757d",
   "metadata": {},
   "outputs": [],
   "source": [
    "# 9. Palindrome\n",
    "\n",
    "class Solution:\n",
    "    def isPalindrome(self, x: int) -> bool:\n",
    "        nums = [x for x in str(x)]\n",
    "        if nums[:] == nums[-1::-1]:\n",
    "            return True\n",
    "        else: return False\n",
    "\n",
    "assert Solution().isPalindrome(x=121) == True\n",
    "assert Solution().isPalindrome(x=-121) == False\n",
    "assert Solution().isPalindrome(x=10) == False"
   ]
  },
  {
   "cell_type": "markdown",
   "id": "e9efd9b6",
   "metadata": {},
   "source": [
    "# Problem 69. Sqrt(x)"
   ]
  },
  {
   "cell_type": "code",
   "execution_count": null,
   "id": "8be5bf82",
   "metadata": {},
   "outputs": [],
   "source": [
    "class Solution:\n",
    "    def mySqrt(self, x: int) -> int:\n",
    "        root = x\n",
    "        while root * root - x > 1:\n",
    "            root = (root + x / root) / 2\n",
    "        return int(root)\n",
    "    \n",
    "assert Solution().mySqrt(x=4) == 2\n",
    "assert Solution().mySqrt(x=8) == 2\n",
    "assert Solution().mySqrt(x=0) == 0\n",
    "assert Solution().mySqrt(x=1) == 1\n",
    "assert Solution().mySqrt(x=2) == 1\n",
    "assert Solution().mySqrt(x=3) == 1\n",
    "assert Solution().mySqrt(x=5) == 2\n",
    "assert Solution().mySqrt(x=100000) == 316\n"
   ]
  },
  {
   "cell_type": "code",
   "execution_count": null,
   "id": "6e95b610",
   "metadata": {},
   "outputs": [],
   "source": [
    "x = 8\n",
    "i = 1\n",
    "while i <= x / i:\n",
    "    current_root = x / i\n",
    "    print(int(current_root))\n",
    "    i += i"
   ]
  },
  {
   "cell_type": "code",
   "execution_count": null,
   "id": "f1e58087",
   "metadata": {},
   "outputs": [],
   "source": [
    "x = 3\n",
    "result = x\n",
    "while result * result - x >= 1:\n",
    "    result = (result + x / result) / 2\n",
    "print(int(result))\n"
   ]
  },
  {
   "cell_type": "code",
   "execution_count": null,
   "id": "a1b2b374",
   "metadata": {},
   "outputs": [],
   "source": []
  }
 ],
 "metadata": {
  "kernelspec": {
   "display_name": "Python 3.9.7 ('base')",
   "language": "python",
   "name": "python3"
  },
  "language_info": {
   "codemirror_mode": {
    "name": "ipython",
    "version": 3
   },
   "file_extension": ".py",
   "mimetype": "text/x-python",
   "name": "python",
   "nbconvert_exporter": "python",
   "pygments_lexer": "ipython3",
   "version": "3.9.7"
  },
  "vscode": {
   "interpreter": {
    "hash": "7b896c0665b168d671b6e5e2e55ba0a159e46adf364bc13b4ac4b0e7a577fad8"
   }
  }
 },
 "nbformat": 4,
 "nbformat_minor": 5
}
